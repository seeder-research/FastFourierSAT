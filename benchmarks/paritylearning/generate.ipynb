{
 "cells": [
  {
   "cell_type": "code",
   "execution_count": null,
   "id": "b410c336-33eb-4c18-b73a-0b5ece72670c",
   "metadata": {},
   "outputs": [],
   "source": [
    "import os\n",
    "import numpy as np\n",
    "import random\n",
    "import math\n",
    "import copy\n",
    "from optilog.encoders.pb import Encoder"
   ]
  },
  {
   "cell_type": "code",
   "execution_count": null,
   "id": "88132876-4d76-4783-b770-b36ce8986af3",
   "metadata": {},
   "outputs": [],
   "source": [
    "def make_dir(path):\n",
    "    try:\n",
    "        os.mkdir(path)\n",
    "    except OSError as error:\n",
    "        return True\n",
    "\n",
    "def check_dir():\n",
    "    for homedir in [\"./cnf/\", \"./cnf+/\"]:\n",
    "        make_dir(homedir)\n",
    "        for size in [\"20/\", \"30/\", \"40/\", \"50\", \"60\"]:\n",
    "            make_dir(homedir+size)\n",
    "            \n",
    "check_dir()"
   ]
  },
  {
   "cell_type": "markdown",
   "id": "65a4524c-9909-4868-94bb-66e9ef9aa1b0",
   "metadata": {},
   "source": [
    "## Function for generate parity codes"
   ]
  },
  {
   "cell_type": "code",
   "execution_count": null,
   "id": "14a41324-f71f-444d-b961-be275018ad9a",
   "metadata": {},
   "outputs": [],
   "source": [
    "def generate(n, lits):\n",
    "    r = random.gauss(n/2, 1)\n",
    "    l = math.ceil(r)\n",
    "    if l > n/2 + 2:\n",
    "        l = int(n/2 + 2)\n",
    "    elif l < n/2 - 2:\n",
    "        l = int(n/2 - 2)\n",
    "    lits = random.sample(lits,l)\n",
    "    lits.sort()\n",
    "    return lits"
   ]
  },
  {
   "cell_type": "markdown",
   "id": "22b09ab8-5764-4ff5-b489-2e4e00486f83",
   "metadata": {},
   "source": [
    "## Functions for convert XOR to CNF"
   ]
  },
  {
   "cell_type": "code",
   "execution_count": null,
   "id": "eb1899e1-64ff-4c55-b795-d47e2490468e",
   "metadata": {},
   "outputs": [],
   "source": [
    "def xor2cnf(xor):\n",
    "    if len(xor) == 3:\n",
    "        return [[-xor[0], -xor[1],  xor[2]], [ xor[0], -xor[1], -xor[2]],\n",
    "               [-xor[0],  xor[1], -xor[2]], [ xor[0],  xor[1],  xor[2]]]\n",
    "    if len(xor) == 2:\n",
    "        return [[ xor[0],  xor[1]], [-xor[0], -xor[1]]]\n",
    "    \n",
    "def de_xor(llist, start):\n",
    "    oldstart = start\n",
    "    exactFlag = 0\n",
    "    if len(llist) <= 3:\n",
    "        return [list(llist),], start\n",
    "    else:\n",
    "        clist = []\n",
    "        i = 0\n",
    "        while True:\n",
    "            if i >= len(llist):\n",
    "                break\n",
    "            elif i == len(llist)-1:\n",
    "                exactFlag = 1\n",
    "                break\n",
    "            else:\n",
    "                clist.append([-llist[i], llist[i + 1], start + 1])\n",
    "                start+=1\n",
    "                i+=2\n",
    "    if exactFlag == 1:\n",
    "        flist, _ = de_xor([llist[-1]] + list(range(oldstart + 1, start + 1)), start)\n",
    "    else:\n",
    "        flist, _ = de_xor(range(oldstart + 1, start + 1), start)\n",
    "    return clist + flist, _"
   ]
  },
  {
   "cell_type": "markdown",
   "id": "2ca87681-97c5-4675-890a-4453c710c5ca",
   "metadata": {},
   "source": [
    "## Formula generator"
   ]
  },
  {
   "cell_type": "code",
   "execution_count": null,
   "id": "9320b087-2ebe-4c28-b6a0-15638ad2ab1a",
   "metadata": {},
   "outputs": [],
   "source": [
    "class parity(object):\n",
    "    def __init__(self, nv, seed = 0):\n",
    "        random.seed(seed)\n",
    "        self.nv  = nv\n",
    "        self.nv_ = 3 * nv\n",
    "        self.mc  = 2 * nv            # Number of XOR constraints\n",
    "        self.th  = int(nv / 2)       # Number of XOR constraints can be falsified\n",
    "        \n",
    "        self.lits = list(range(1, nv + 1))\n",
    "        self.x = np.random.randint(0, 2, nv, dtype=bool)\n",
    "\n",
    "        self.name  = \"./cnf+/\"+str(nv)+\"/\"+str(seed)+\".cnfp\"\n",
    "        self.name_ = \"./cnf/\" +str(nv)+\"/\"+str(seed)+\".cnf\"\n",
    "\n",
    "        self.DB      = []\n",
    "        self.DB_cnf  = []\n",
    "        self.DB_xor  = []\n",
    "        self.DB_card = []\n",
    "        self.generate_parity()\n",
    "\n",
    "    def generate_parity(self):\n",
    "        error = 0\n",
    "        for i in range(self.mc):\n",
    "            aux_var = int(self.nv + i + 1)\n",
    "            self.DB_card.append(-aux_var)\n",
    "            clause = generate(self.nv, self.lits)\n",
    "            value = None\n",
    "            for lit in clause:\n",
    "                addr = abs(lit) - 1\n",
    "                asgn = self.x[addr]\n",
    "                if lit < 0:\n",
    "                    asgn = not asgn\n",
    "                if value == None:\n",
    "                    value = asgn\n",
    "                else:\n",
    "                    value ^= asgn\n",
    "            if value == False:\n",
    "                clause[0] = -clause[0]\n",
    "            self.DB.append(clause)\n",
    "            clause = copy.deepcopy(clause)\n",
    "            clause.append(aux_var)\n",
    "            self.DB_xor.append(clause)\n",
    "        # randomly choose self.th clauses to be falsified:\n",
    "        err = random.sample(list(range(self.mc)), self.th-1)\n",
    "        for i in err:\n",
    "            self.DB[i][0]     = -self.DB[i][0]\n",
    "            self.DB_xor[i][0] = -self.DB_xor[i][0] \n",
    "        self.convert()\n",
    "        self.toCNFP()\n",
    "        self.toCNF()\n",
    "\n",
    "    def convert(self):\n",
    "        self.nv_, cnfs = Encoder.at_least_k(self.DB_card, self.mc - self.th, max_var=self.nv_)\n",
    "        for cnf in cnfs:\n",
    "            self.DB_cnf.append(cnf)\n",
    "        for clause in self.DB_xor:\n",
    "            xors, self.nv_ = de_xor(clause, self.nv_ + 1)\n",
    "            for xor in xors:\n",
    "                cnfs = xor2cnf(xor)\n",
    "                for cnf in cnfs:\n",
    "                    self.DB_cnf.append(cnf)\n",
    "    \n",
    "    def toCNFP(self):\n",
    "        with open(self.name, 'w') as f:\n",
    "            f.write('c parity = %s \\n' % ' '.join(map(str, self.x+0)))\n",
    "            f.writelines('c e = 0.25 \\n')\n",
    "            f.writelines('p cnf %d %d\\n' % (self.nv, self.mc))\n",
    "            f.writelines(['x %s 0\\n' % ' '.join(map(str, c)) for c in self.DB])\n",
    "            \n",
    "    def toCNF(self):\n",
    "        with open(self.name_, 'w') as f:\n",
    "            f.write('c parity = %s \\n' % ' '.join(map(str, self.x+0)))\n",
    "            f.writelines('c e = 0.25 \\n')\n",
    "            f.writelines('p cnf %d %d\\n' % (self.nv_, len(self.DB_cnf)))\n",
    "            f.writelines(['%s 0\\n' % ' '.join(map(str, c)) for c in self.DB_cnf])"
   ]
  },
  {
   "cell_type": "code",
   "execution_count": null,
   "id": "6ce8ddc7-5b61-4c37-b7ee-0eecab230600",
   "metadata": {},
   "outputs": [],
   "source": [
    "for seed in range(100):\n",
    "    for nv in [20, 30, 40, 50, 60]:\n",
    "        F = parity(nv, seed)"
   ]
  }
 ],
 "metadata": {
  "kernelspec": {
   "display_name": "Python 3 (ipykernel)",
   "language": "python",
   "name": "python3"
  },
  "language_info": {
   "codemirror_mode": {
    "name": "ipython",
    "version": 3
   },
   "file_extension": ".py",
   "mimetype": "text/x-python",
   "name": "python",
   "nbconvert_exporter": "python",
   "pygments_lexer": "ipython3",
   "version": "3.10.6"
  }
 },
 "nbformat": 4,
 "nbformat_minor": 5
}

{
 "cells": [
  {
   "cell_type": "code",
   "execution_count": null,
   "id": "61b9de16-3282-4cfa-84fa-9ccde8f77bbf",
   "metadata": {},
   "outputs": [],
   "source": [
    "import os\n",
    "import math\n",
    "import random\n",
    "from optilog.encoders.pb import Encoder"
   ]
  },
  {
   "cell_type": "code",
   "execution_count": null,
   "id": "4e667f5e-89a7-424b-9dc0-6c1dca877651",
   "metadata": {},
   "outputs": [],
   "source": [
    "def make_dir(path):\n",
    "    try:\n",
    "        os.mkdir(path)\n",
    "    except OSError as error:\n",
    "        return True\n",
    "\n",
    "def check_dir():\n",
    "    for homedir in [\"./cnf/\", \"./cnf+/\"]:\n",
    "        make_dir(homedir)\n",
    "        for size in [\"50/\", \"100/\", \"150/\", \"200/\", \"250\"]:\n",
    "            make_dir(homedir+size)\n",
    "\n",
    "check_dir()"
   ]
  },
  {
   "cell_type": "markdown",
   "id": "d8d28d5c-b58f-47b8-8ee9-29a923ada88d",
   "metadata": {},
   "source": [
    "## Functions for generate cardinality constraints"
   ]
  },
  {
   "cell_type": "code",
   "execution_count": null,
   "id": "1699f346-9788-4e48-8fc5-5a51640f7e14",
   "metadata": {},
   "outputs": [],
   "source": [
    "def generate_variable_list(n):\n",
    "    var_list = []\n",
    "    for i in range(n):\n",
    "        var_list.append(i+1)\n",
    "    return var_list\n",
    "\n",
    "def pick_var(var_list, k):\n",
    "    lits = random.sample(var_list, k)\n",
    "    lits.sort(key=abs)\n",
    "    return lits\n",
    "\n",
    "def gen_card(var_list, k):\n",
    "    lits = pick_var(var_list, k)\n",
    "    k = math.ceil(k/2)\n",
    "    if random.random() > 0.5:\n",
    "        lits = [-x for x in lits]\n",
    "    return ['d', k] + lits"
   ]
  },
  {
   "cell_type": "markdown",
   "id": "5b0984df-c2a0-4578-8c57-450fe9efd015",
   "metadata": {},
   "source": [
    "## Formula generator"
   ]
  },
  {
   "cell_type": "code",
   "execution_count": null,
   "id": "ddb07a43-c5dd-46ce-a26e-a4d839ece4dc",
   "metadata": {},
   "outputs": [],
   "source": [
    "class card(object):\n",
    "    def __init__(self, nv, seed = 0):\n",
    "        random.seed(seed)\n",
    "        self.nv  = nv\n",
    "        self.nv_ = nv\n",
    "        self.lc  = int(0.2 * nv)       # Length of CARD constraints\n",
    "        self.mc  = int(0.6 * nv)       # Number of CARD constraints\n",
    "        self.var = generate_variable_list(nv)\n",
    "\n",
    "        self.name  = \"./cnf+/\"+str(nv)+\"/\"+str(seed)+\".cnfp\"\n",
    "        self.name_ = \"./cnf/\" +str(nv)+\"/\"+str(seed)+\".cnf\"\n",
    "\n",
    "        self.cards  = []\n",
    "        self.cards_ = []\n",
    "\n",
    "    def generate(self):\n",
    "        for i in range(self.mc):\n",
    "            card = gen_card(self.var, self.lc)\n",
    "            self.cards.append(card)\n",
    "            self.nv_, cnfs = Encoder.at_least_k(card[2:], card[1], max_var=self.nv_)#, encoding='seqcounter')\n",
    "            for cnf in cnfs:\n",
    "                self.cards_.append(cnf)\n",
    "        self.toCNF()\n",
    "        self.toCNFP()\n",
    "\n",
    "    def toCNFP(self):\n",
    "        with open(self.name, 'w') as f:\n",
    "            f.write('p cnf+ %d %d\\n' % (self.nv, len(self.cards)))\n",
    "            f.writelines(['%s 0\\n' % ' '.join(map(str, c)) for c in self.cards])\n",
    "\n",
    "    def toCNF(self):\n",
    "        with open(self.name_, 'w') as f:\n",
    "            f.write('p cnf %d %d\\n' % (self.nv_, len(self.cards_)))\n",
    "            f.writelines('c cardinality constraints\\n')\n",
    "            f.writelines(['%s 0\\n' % ' '.join(map(str, c)) for c in self.cards_])"
   ]
  },
  {
   "cell_type": "code",
   "execution_count": null,
   "id": "d3e08bef-a855-4042-a256-fb53286aab71",
   "metadata": {},
   "outputs": [],
   "source": [
    "for seed in range(100):\n",
    "    for nv in [50, 100, 150, 200, 250]:\n",
    "        gen = card(nv, seed)\n",
    "        gen.generate()"
   ]
  }
 ],
 "metadata": {
  "kernelspec": {
   "display_name": "Python 3 (ipykernel)",
   "language": "python",
   "name": "python3"
  },
  "language_info": {
   "codemirror_mode": {
    "name": "ipython",
    "version": 3
   },
   "file_extension": ".py",
   "mimetype": "text/x-python",
   "name": "python",
   "nbconvert_exporter": "python",
   "pygments_lexer": "ipython3",
   "version": "3.10.6"
  }
 },
 "nbformat": 4,
 "nbformat_minor": 5
}

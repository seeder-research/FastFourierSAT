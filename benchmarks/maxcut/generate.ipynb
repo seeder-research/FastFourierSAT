{
 "cells": [
  {
   "cell_type": "code",
   "execution_count": null,
   "id": "2de601db-1ef2-4bfa-bb15-db8333cae839",
   "metadata": {},
   "outputs": [],
   "source": [
    "import os\n",
    "import random\n",
    "import networkx as nx"
   ]
  },
  {
   "cell_type": "code",
   "execution_count": null,
   "id": "5b6a5bee-0798-4cf9-b72b-80ed294c265f",
   "metadata": {},
   "outputs": [],
   "source": [
    "def make_dir(path):\n",
    "    try:\n",
    "        os.mkdir(path)\n",
    "    except OSError as error:\n",
    "        return True\n",
    "    \n",
    "def check_dir():\n",
    "    for homedir in [\"./wcnf/\", \"./wcnf+/\"]:\n",
    "        make_dir(homedir)\n",
    "            \n",
    "check_dir()"
   ]
  },
  {
   "cell_type": "markdown",
   "id": "578a3989-f963-4961-825e-5c37b940ff15",
   "metadata": {},
   "source": [
    "## Generate planted partition graph"
   ]
  },
  {
   "cell_type": "code",
   "execution_count": null,
   "id": "4a4608fa-b302-4779-ad9c-218ad7136250",
   "metadata": {},
   "outputs": [],
   "source": [
    "def gen_planted_graph(n, m, seed):\n",
    "    random.seed(seed)\n",
    "    file_cnf = \"wcnf/\" + str(seed).zfill(3) + \".wcnf\"\n",
    "    file_xor = \"wcnf+/\" + str(seed).zfill(3) + \".wcnfp\"\n",
    "    G = nx.planted_partition_graph(n, m, 0.5, 0.5, seed)\n",
    "    weight = 0\n",
    "    for (u, v) in G.edges():\n",
    "        if G.nodes[u][\"block\"] == G.nodes[v][\"block\"]:\n",
    "            G[u][v][\"weight\"] = 1\n",
    "            weight += 1\n",
    "        else:\n",
    "            G[u][v][\"weight\"] = 2\n",
    "            weight += 2\n",
    "            \n",
    "    f_cnf = open(file_cnf, 'w')\n",
    "    f_xor = open(file_xor, 'w')\n",
    "    f_cnf.write('p wcnf {} {} {}\\n'.format(n*m, 2*len(G.edges()), 1+weight*2))\n",
    "    f_xor.write('p wcnf+ {} {} {}\\n'.format(n*m, len(G.edges()), 1+weight))\n",
    "    for (u, v) in G.edges():\n",
    "        f_cnf.writelines(  '{} {} {} 0\\n'.format(G[u][v][\"weight\"],  u+1,  v+1))\n",
    "        f_cnf.writelines(  '{} {} {} 0\\n'.format(G[u][v][\"weight\"], -u-1, -v-1))\n",
    "        f_xor.writelines('x {} {} {} 0\\n'.format(G[u][v][\"weight\"],  u+1,  v+1))\n",
    "    f_cnf.close()\n",
    "    f_xor.close()"
   ]
  },
  {
   "cell_type": "code",
   "execution_count": null,
   "id": "3077088c-2f8f-4a30-bce0-2ff49653246d",
   "metadata": {},
   "outputs": [],
   "source": [
    "for i in range(400):\n",
    "    if i < 100:\n",
    "        gen_planted_graph(32, 32, i+1)\n",
    "    elif i < 200:\n",
    "        gen_planted_graph(16, 32, i+1)\n",
    "    elif i < 300:\n",
    "        gen_planted_graph(32, 16, i+1)\n",
    "    else:\n",
    "        gen_planted_graph(16, 16, i+1)"
   ]
  },
  {
   "cell_type": "markdown",
   "id": "35536315-040d-42cd-9e08-4c25a684c206",
   "metadata": {},
   "source": [
    "## Convert WCNF from MSE2019"
   ]
  },
  {
   "cell_type": "code",
   "execution_count": null,
   "id": "251387b6-0cbb-480e-a506-6c5f500fb839",
   "metadata": {},
   "outputs": [],
   "source": [
    "dir_path = 'mse2019/'\n",
    "files = [(f, os.path.getsize(os.path.join(dir_path, f))) for f in os.listdir(dir_path) if os.path.isfile(os.path.join(dir_path, f))]\n",
    "files = sorted(files, key=lambda x: x[1])"
   ]
  },
  {
   "cell_type": "code",
   "execution_count": null,
   "id": "0c1c06c0-fbf1-4ced-9992-ecdf663f10ce",
   "metadata": {},
   "outputs": [],
   "source": [
    "for i in range(len(files)):\n",
    "    f_src = open(dir_path+files[i][0], \"r\")\n",
    "    f_cnf = open(\"wcnf/\"  + str(i+401) + \".wcnf\",  \"w\")\n",
    "    f_xor = open(\"wcnf+/\" + str(i+401) + \".wcnfp\", \"w\")\n",
    "    for line in f_src:\n",
    "        split = line.split()\n",
    "        if line[0] == 'c':\n",
    "            f_cnf.writelines(line)\n",
    "            f_xor.writelines(line)\n",
    "            continue\n",
    "        if line[0] == 'p':    # Read p line\n",
    "            n, m, o = split[2:]\n",
    "            f_cnf.writelines('p wcnf {} {} {}\\n'.format(n, m, o))\n",
    "            f_xor.writelines('p wcnf+ {} {} {}\\n'.format(n, int(int(m)/2), int((int(o)-1)/2+1)))\n",
    "        else:\n",
    "            w, x, y, _ = split\n",
    "            f_cnf.writelines(line)\n",
    "            if (float(x) > 0):\n",
    "                f_xor.writelines('x {}'.format(line))\n",
    "    f_src.close()\n",
    "    f_cnf.close()\n",
    "    f_xor.close()"
   ]
  }
 ],
 "metadata": {
  "kernelspec": {
   "display_name": "Python 3 (ipykernel)",
   "language": "python",
   "name": "python3"
  },
  "language_info": {
   "codemirror_mode": {
    "name": "ipython",
    "version": 3
   },
   "file_extension": ".py",
   "mimetype": "text/x-python",
   "name": "python",
   "nbconvert_exporter": "python",
   "pygments_lexer": "ipython3",
   "version": "3.10.6"
  }
 },
 "nbformat": 4,
 "nbformat_minor": 5
}
